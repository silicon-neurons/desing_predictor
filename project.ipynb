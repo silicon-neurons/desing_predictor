{
 "cells": [
  {
   "cell_type": "code",
   "execution_count": 20,
   "metadata": {},
   "outputs": [
    {
     "name": "stderr",
     "output_type": "stream",
     "text": [
      "C:\\anaconda\\envs\\tfdeeplearning\\lib\\site-packages\\ipykernel_launcher.py:10: UserWarning: Update your `Conv2D` call to the Keras 2 API: `Conv2D(32, (3, 3), activation=\"relu\", input_shape=(64, 64, 3...)`\n",
      "  # Remove the CWD from sys.path while we load stuff.\n",
      "C:\\anaconda\\envs\\tfdeeplearning\\lib\\site-packages\\ipykernel_launcher.py:14: UserWarning: Update your `Conv2D` call to the Keras 2 API: `Conv2D(32, (3, 3), activation=\"relu\")`\n",
      "  \n",
      "C:\\anaconda\\envs\\tfdeeplearning\\lib\\site-packages\\ipykernel_launcher.py:20: UserWarning: Update your `Dense` call to the Keras 2 API: `Dense(activation=\"relu\", units=128)`\n",
      "C:\\anaconda\\envs\\tfdeeplearning\\lib\\site-packages\\ipykernel_launcher.py:21: UserWarning: Update your `Dense` call to the Keras 2 API: `Dense(activation=\"softmax\", units=3)`\n"
     ]
    }
   ],
   "source": [
    "from keras.models import Sequential\n",
    "from keras.layers import Convolution2D\n",
    "from keras.layers import MaxPooling2D\n",
    "from keras.layers import Flatten\n",
    "from keras.layers import Dense\n",
    "\n",
    "# Initialising the CNN\n",
    "classifier = Sequential()\n",
    "# Convolution\n",
    "classifier.add(Convolution2D(32, 3, 3, input_shape = (64, 64, 3), activation = 'relu'))\n",
    "# Pooling\n",
    "classifier.add(MaxPooling2D(pool_size = (2, 2)))\n",
    "# Second convolutional layer\n",
    "classifier.add(Convolution2D(32, 3, 3, activation = 'relu'))\n",
    "classifier.add(MaxPooling2D(pool_size = (2, 2)))\n",
    "# Flattening\n",
    "classifier.add(Flatten())\n",
    "\n",
    "# Full connection\n",
    "classifier.add(Dense(output_dim = 128, activation = 'relu'))\n",
    "classifier.add(Dense(output_dim = 3, activation = 'softmax'))\n",
    "\n",
    "# Compiling the CNN\n",
    "classifier.compile(optimizer = 'adam', loss = 'categorical_crossentropy', metrics = ['accuracy'])"
   ]
  },
  {
   "cell_type": "code",
   "execution_count": 24,
   "metadata": {},
   "outputs": [
    {
     "name": "stdout",
     "output_type": "stream",
     "text": [
      "Found 63 images belonging to 3 classes.\n",
      "Found 32 images belonging to 3 classes.\n"
     ]
    },
    {
     "name": "stderr",
     "output_type": "stream",
     "text": [
      "C:\\anaconda\\envs\\tfdeeplearning\\lib\\site-packages\\ipykernel_launcher.py:29: UserWarning: The semantics of the Keras 2 argument `steps_per_epoch` is not the same as the Keras 1 argument `samples_per_epoch`. `steps_per_epoch` is the number of batches to draw from the generator at each epoch. Basically steps_per_epoch = samples_per_epoch/batch_size. Similarly `nb_val_samples`->`validation_steps` and `val_samples`->`steps` arguments have changed. Update your method calls accordingly.\n",
      "C:\\anaconda\\envs\\tfdeeplearning\\lib\\site-packages\\ipykernel_launcher.py:29: UserWarning: Update your `fit_generator` call to the Keras 2 API: `fit_generator(<keras_pre..., steps_per_epoch=125, validation_data=<keras_pre..., callbacks=[<keras.ca..., epochs=10, validation_steps=1000)`\n"
     ]
    },
    {
     "name": "stdout",
     "output_type": "stream",
     "text": [
      "Epoch 1/10\n",
      "125/125 [==============================] - 526s 4s/step - loss: 0.0254 - acc: 0.9949 - val_loss: 3.3591 - val_acc: 0.4375\n",
      "\n",
      "Epoch 00001: val_loss improved from inf to 3.35912, saving model to modelProject.hdf5\n",
      "Epoch 2/10\n",
      "125/125 [==============================] - 526s 4s/step - loss: 0.0040 - acc: 1.0000 - val_loss: 3.8419 - val_acc: 0.4375\n",
      "\n",
      "Epoch 00002: val_loss did not improve from 3.35912\n",
      "Epoch 3/10\n",
      "125/125 [==============================] - 525s 4s/step - loss: 0.0042 - acc: 0.9997 - val_loss: 4.2486 - val_acc: 0.3438\n",
      "\n",
      "Epoch 00003: val_loss did not improve from 3.35912\n",
      "Epoch 4/10\n",
      "125/125 [==============================] - 492s 4s/step - loss: 0.0013 - acc: 1.0000 - val_loss: 3.8742 - val_acc: 0.4375\n",
      "\n",
      "Epoch 00004: val_loss did not improve from 3.35912\n",
      "Epoch 5/10\n",
      "125/125 [==============================] - 501s 4s/step - loss: 6.4367e-04 - acc: 1.0000 - val_loss: 4.2578 - val_acc: 0.4062\n",
      "\n",
      "Epoch 00005: val_loss did not improve from 3.35912\n",
      "Epoch 6/10\n",
      "125/125 [==============================] - 495s 4s/step - loss: 2.3921e-04 - acc: 1.0000 - val_loss: 4.3541 - val_acc: 0.4062\n",
      "\n",
      "Epoch 00006: val_loss did not improve from 3.35912\n",
      "Epoch 7/10\n",
      "125/125 [==============================] - 525s 4s/step - loss: 0.0015 - acc: 1.0000 - val_loss: 4.4951 - val_acc: 0.4062\n",
      "\n",
      "Epoch 00007: val_loss did not improve from 3.35912\n",
      "Epoch 8/10\n",
      "125/125 [==============================] - 506s 4s/step - loss: 2.3913e-04 - acc: 1.0000 - val_loss: 4.6110 - val_acc: 0.4062\n",
      "\n",
      "Epoch 00008: val_loss did not improve from 3.35912\n",
      "Epoch 9/10\n",
      "125/125 [==============================] - 499s 4s/step - loss: 1.1389e-04 - acc: 1.0000 - val_loss: 4.6416 - val_acc: 0.4062\n",
      "\n",
      "Epoch 00009: val_loss did not improve from 3.35912\n",
      "Epoch 10/10\n",
      "125/125 [==============================] - 493s 4s/step - loss: 1.2096e-04 - acc: 1.0000 - val_loss: 4.1722 - val_acc: 0.4375\n",
      "\n",
      "Epoch 00010: val_loss did not improve from 3.35912\n"
     ]
    },
    {
     "data": {
      "text/plain": [
       "<keras.callbacks.History at 0x2402ac817f0>"
      ]
     },
     "execution_count": 24,
     "metadata": {},
     "output_type": "execute_result"
    }
   ],
   "source": [
    "from keras.preprocessing.image import ImageDataGenerator\n",
    "from keras.callbacks import ModelCheckpoint  \n",
    "\n",
    "train_datagen = ImageDataGenerator(rescale = 1./255,\n",
    "                                   shear_range = 0.2,\n",
    "                                   zoom_range = 0.2,\n",
    "                                   horizontal_flip = True)\n",
    "\n",
    "test_datagen = ImageDataGenerator(rescale = 1./255)\n",
    "\n",
    "training_set = train_datagen.flow_from_directory('dataset/training_set',\n",
    "                                                 target_size = (64, 64),\n",
    "                                                 batch_size = 32,\n",
    "                                                 class_mode = 'categorical')\n",
    "\n",
    "test_set = test_datagen.flow_from_directory('dataset/test_set',\n",
    "                                            target_size = (64, 64),\n",
    "                                            batch_size = 32,\n",
    "                                            class_mode = 'categorical')\n",
    "\n",
    "checkpointer = ModelCheckpoint(filepath='modelProject.hdf5', \n",
    "                               verbose=1, save_best_only=True)\n",
    "\n",
    "classifier.fit_generator(training_set,\n",
    "                         samples_per_epoch = 4000,\n",
    "                         nb_epoch = 10,\n",
    "                         validation_data = test_set,\n",
    "                         nb_val_samples = 1000,\n",
    "                        callbacks = [checkpointer])"
   ]
  },
  {
   "cell_type": "code",
   "execution_count": 65,
   "metadata": {},
   "outputs": [
    {
     "name": "stdout",
     "output_type": "stream",
     "text": [
      "{'nudges': 0, 'unpleasants': 2, 'persuasives': 1}\n",
      "[[0. 1. 0.]]\n"
     ]
    }
   ],
   "source": [
    "import numpy as np\n",
    "from keras.preprocessing import image\n",
    "test_image = image.load_img('random8.png', target_size =(64,64))\n",
    "test_image = image.img_to_array(test_image)\n",
    "test_image = np.expand_dims(test_image, axis = 0)\n",
    "result = classifier.predict(test_image)\n",
    "training_set.class_indices\n",
    "print(training_set.class_indices)\n",
    "print(result)"
   ]
  },
  {
   "cell_type": "code",
   "execution_count": 63,
   "metadata": {},
   "outputs": [
    {
     "name": "stdout",
     "output_type": "stream",
     "text": [
      "Saved model to disk\n"
     ]
    }
   ],
   "source": [
    "# serialize model to JSON\n",
    "model_json = classifier.to_json()\n",
    "with open(\"model.json\", \"w\") as json_file:\n",
    "    json_file.write(model_json)\n",
    "# serialize weights to HDF5\n",
    "classifier.save_weights(\"model.h5\")\n",
    "print(\"Saved model to disk\")"
   ]
  },
  {
   "cell_type": "code",
   "execution_count": null,
   "metadata": {
    "collapsed": true
   },
   "outputs": [],
   "source": []
  }
 ],
 "metadata": {
  "kernelspec": {
   "display_name": "Python 3",
   "language": "python",
   "name": "python3"
  },
  "language_info": {
   "codemirror_mode": {
    "name": "ipython",
    "version": 3
   },
   "file_extension": ".py",
   "mimetype": "text/x-python",
   "name": "python",
   "nbconvert_exporter": "python",
   "pygments_lexer": "ipython3",
   "version": "3.5.4"
  }
 },
 "nbformat": 4,
 "nbformat_minor": 2
}
